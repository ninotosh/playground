{
 "cells": [
  {
   "cell_type": "code",
   "execution_count": 1,
   "metadata": {
    "collapsed": true
   },
   "outputs": [],
   "source": [
    "import tensorflow as tf\n",
    "import numpy as np"
   ]
  },
  {
   "cell_type": "code",
   "execution_count": 2,
   "metadata": {
    "collapsed": false
   },
   "outputs": [],
   "source": [
    "class Autoencoder:\n",
    "    def __init__(self, input_dim, hidden_dim, epoch=250, learning_rate=0.001):\n",
    "        self.epoch = epoch\n",
    "        self.learning_rate = learning_rate\n",
    "\n",
    "        x = tf.placeholder(dtype=tf.float32, shape=[None, input_dim])\n",
    "\n",
    "        with tf.name_scope('encode'):\n",
    "            weights = tf.Variable(tf.random_normal([input_dim, hidden_dim], dtype=tf.float32), name='weights')\n",
    "            biases = tf.Variable(tf.zeros([hidden_dim]), name='biases')\n",
    "            encoded = tf.nn.tanh(tf.matmul(x, weights) + biases)\n",
    "\n",
    "        with tf.name_scope('decode'):\n",
    "            weights = tf.Variable(tf.random_normal([hidden_dim, input_dim], dtype=tf.float32), name='weights')\n",
    "            biases = tf.Variable(tf.zeros([input_dim]), name='biases')\n",
    "            decoded = tf.matmul(encoded, weights) + biases\n",
    "\n",
    "        self.x = x\n",
    "        self.encoded = encoded\n",
    "        self.decoded = decoded\n",
    "\n",
    "        self.loss = tf.sqrt(tf.reduce_mean(tf.square(tf.sub(self.x, self.decoded))))\n",
    "        self.train_op = tf.train.AdamOptimizer(self.learning_rate).minimize(self.loss)\n",
    "        self.saver = tf.train.Saver()\n",
    "        \n",
    "    def train(self, data):\n",
    "        num_samples = len(data)\n",
    "        with tf.Session() as sess:\n",
    "            sess.run(tf.global_variables_initializer())\n",
    "            for i in range(self.epoch):\n",
    "                for j in range(num_samples):\n",
    "                    l, _ = sess.run([self.loss, self.train_op], feed_dict={self.x: [data[j]]})\n",
    "                if i % 10 == 0:\n",
    "                    print('epoch {0}: loss = {1}'.format(i, l))\n",
    "                    self.saver.save(sess, './model.ckpt')\n",
    "            self.saver.save(sess, './model.ckpt')\n",
    "                \n",
    "    def test(self, data):\n",
    "        with tf.Session() as sess:\n",
    "            self.saver.restore(sess, './model.ckpt')\n",
    "            hidden, reconstructed = sess.run([self.encoded, self.decoded], feed_dict={self.x: data})\n",
    "        print('input', data)\n",
    "        print('compressed', hidden)\n",
    "        print('reconstructed', reconstructed)\n",
    "        return reconstructed"
   ]
  },
  {
   "cell_type": "code",
   "execution_count": 3,
   "metadata": {
    "collapsed": false
   },
   "outputs": [
    {
     "name": "stdout",
     "output_type": "stream",
     "text": [
      "epoch 0: loss = 3.54863500595\n",
      "epoch 10: loss = 1.64626097679\n",
      "epoch 20: loss = 0.769144773483\n",
      "epoch 30: loss = 0.398946553469\n",
      "epoch 40: loss = 0.332651883364\n",
      "epoch 50: loss = 0.319466233253\n",
      "epoch 60: loss = 0.313293516636\n",
      "epoch 70: loss = 0.31349208951\n",
      "epoch 80: loss = 0.303106218576\n",
      "epoch 90: loss = 0.289905130863\n",
      "epoch 100: loss = 0.276380091906\n",
      "epoch 110: loss = 0.261961638927\n",
      "epoch 120: loss = 0.249286606908\n",
      "epoch 130: loss = 0.244515880942\n",
      "epoch 140: loss = 0.24733749032\n",
      "epoch 150: loss = 0.247637018561\n",
      "epoch 160: loss = 0.243682786822\n",
      "epoch 170: loss = 0.238044396043\n",
      "epoch 180: loss = 0.232438161969\n",
      "epoch 190: loss = 0.227783888578\n",
      "epoch 200: loss = 0.224909156561\n",
      "epoch 210: loss = 0.223893687129\n",
      "epoch 220: loss = 0.224187806249\n",
      "epoch 230: loss = 0.225351139903\n",
      "epoch 240: loss = 0.227103292942\n",
      "('input', [[8, 4, 6, 2]])\n",
      "('compressed', array([[ 0.79709238]], dtype=float32))\n",
      "('reconstructed', array([[ 6.72411633,  2.82488823,  5.98832607,  2.15396857]], dtype=float32))\n"
     ]
    },
    {
     "data": {
      "text/plain": [
       "array([[ 6.72411633,  2.82488823,  5.98832607,  2.15396857]], dtype=float32)"
      ]
     },
     "execution_count": 3,
     "metadata": {},
     "output_type": "execute_result"
    }
   ],
   "source": [
    "# from autoencoder import Autoencoder\n",
    "from sklearn import datasets\n",
    "\n",
    "hidden_dim = 1\n",
    "data = datasets.load_iris().data\n",
    "input_dim = len(data[0])\n",
    "ae = Autoencoder(input_dim, hidden_dim)\n",
    "ae.train(data)\n",
    "ae.test([[8, 4, 6, 2]])"
   ]
  },
  {
   "cell_type": "code",
   "execution_count": null,
   "metadata": {
    "collapsed": true
   },
   "outputs": [],
   "source": []
  }
 ],
 "metadata": {
  "kernelspec": {
   "display_name": "Python 2",
   "language": "python",
   "name": "python2"
  },
  "language_info": {
   "codemirror_mode": {
    "name": "ipython",
    "version": 2
   },
   "file_extension": ".py",
   "mimetype": "text/x-python",
   "name": "python",
   "nbconvert_exporter": "python",
   "pygments_lexer": "ipython2",
   "version": "2.7.6"
  }
 },
 "nbformat": 4,
 "nbformat_minor": 2
}
