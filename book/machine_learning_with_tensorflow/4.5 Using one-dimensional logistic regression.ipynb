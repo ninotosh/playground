{
 "cells": [
  {
   "cell_type": "code",
   "execution_count": 1,
   "metadata": {
    "collapsed": true
   },
   "outputs": [],
   "source": [
    "%matplotlib inline"
   ]
  },
  {
   "cell_type": "code",
   "execution_count": 2,
   "metadata": {
    "collapsed": false
   },
   "outputs": [
    {
     "data": {
      "image/png": "[encoded data removed]",
      "text/plain": [
       "<matplotlib.figure.Figure at 0x7faf31c37fd0>"
      ]
     },
     "metadata": {},
     "output_type": "display_data"
    }
   ],
   "source": [
    "import numpy as np\n",
    "import tensorflow as tf\n",
    "import matplotlib.pyplot as plt\n",
    "\n",
    "learning_rate = 0.01\n",
    "training_epochs = 1000\n",
    "\n",
    "def sigmoid(x):\n",
    "    return 1. / (1. + np.exp(-x))\n",
    "\n",
    "x1 = np.random.normal(-4, 2, 1000)\n",
    "x2 = np.random.normal(4, 2, 1000)\n",
    "xs = np.append(x1, x2)\n",
    "ys = np.asarray([0.] * len(x1) + [1.] * len(x2))\n",
    "\n",
    "plt.scatter(xs, ys)\n",
    "\n",
    "X = tf.placeholder(tf.float32, shape=(None,), name=\"x\")\n",
    "Y = tf.placeholder(tf.float32, shape=(None,), name=\"y\")\n",
    "w = tf.Variable([0., 0.], name=\"parameter\", trainable=True)\n",
    "y_model = tf.sigmoid(-(w[1] * X + w[0]))\n",
    "cost = tf.reduce_mean(-tf.log(y_model * Y + (1 - y_model) * (1 - Y)))\n",
    "\n",
    "train_op = tf.train.GradientDescentOptimizer(learning_rate).minimize(cost)\n",
    "with tf.Session() as sess:\n",
    "    sess.run(tf.initialize_all_variables())\n",
    "    prev_err = 0\n",
    "    for epoch in range(training_epochs):\n",
    "        err, _ = sess.run([cost, train_op], {X: xs, Y: ys})\n",
    "        # print(epoch, err)\n",
    "        if abs(prev_err - err) < 0.0001:\n",
    "            break\n",
    "\n",
    "        prev_err = err\n",
    "    \n",
    "    w_val = sess.run(w, {X: xs, Y: ys})\n",
    "\n",
    "all_xs = np.linspace(-10, 10, 100)\n",
    "plt.plot(all_xs, sigmoid(-(all_xs * w_val[1] + w_val[0])))\n",
    "plt.show()"
   ]
  },
  {
   "cell_type": "code",
   "execution_count": null,
   "metadata": {
    "collapsed": false
   },
   "outputs": [],
   "source": []
  }
 ],
 "metadata": {
  "kernelspec": {
   "display_name": "Python 2",
   "language": "python",
   "name": "python2"
  },
  "language_info": {
   "codemirror_mode": {
    "name": "ipython",
    "version": 2
   },
   "file_extension": ".py",
   "mimetype": "text/x-python",
   "name": "python",
   "nbconvert_exporter": "python",
   "pygments_lexer": "ipython2",
   "version": "2.7.6"
  }
 },
 "nbformat": 4,
 "nbformat_minor": 0
}
